{
 "cells": [
  {
   "cell_type": "code",
   "execution_count": 13,
   "id": "5e336c1d",
   "metadata": {},
   "outputs": [
    {
     "name": "stdout",
     "output_type": "stream",
     "text": [
      "Enter password length\n",
      "45\n",
      "Your password is: \n",
      "M~qx64CO(V9NL[5`:a_+|3^ny\"l%=TAS<F!KHBs\\hG?oj\n"
     ]
    }
   ],
   "source": [
    "import string\n",
    "import random\n",
    "\n",
    "if __name__ == \"__main__\":\n",
    "    s1 = string.ascii_lowercase\n",
    "\n",
    "    s2 = string.ascii_uppercase\n",
    "  \n",
    "    s3 = string.digits\n",
    "   \n",
    "    s4 = string.punctuation\n",
    "  \n",
    "    plen = int(input(\"Enter password length\\n\")) #Todo1: Handle Gibberish\n",
    "    \n",
    "    s = []\n",
    "    s.extend(list(s1))\n",
    "    s.extend(list(s2))\n",
    "    s.extend(list(s3))\n",
    "    s.extend(list(s4))\n",
    "   \n",
    "    print(\"Your password is: \")\n",
    "    print(\"\".join(random.sample(s, plen)))\n",
    "   \n"
   ]
  },
  {
   "cell_type": "code",
   "execution_count": null,
   "id": "1e4cb9b5",
   "metadata": {},
   "outputs": [],
   "source": [
    "from random import *\n",
    "user_pass="
   ]
  }
 ],
 "metadata": {
  "kernelspec": {
   "display_name": "Python 3",
   "language": "python",
   "name": "python3"
  },
  "language_info": {
   "codemirror_mode": {
    "name": "ipython",
    "version": 3
   },
   "file_extension": ".py",
   "mimetype": "text/x-python",
   "name": "python",
   "nbconvert_exporter": "python",
   "pygments_lexer": "ipython3",
   "version": "3.8.8"
  }
 },
 "nbformat": 4,
 "nbformat_minor": 5
}
